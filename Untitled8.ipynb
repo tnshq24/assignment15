{
 "cells": [
  {
   "cell_type": "code",
   "execution_count": 1,
   "id": "0d482f7f-934e-45af-a164-c1940e53049f",
   "metadata": {},
   "outputs": [],
   "source": [
    "import pandas as pd"
   ]
  },
  {
   "cell_type": "code",
   "execution_count": 2,
   "id": "7c92b2e3-fbdb-40de-8202-13952d38305a",
   "metadata": {},
   "outputs": [],
   "source": [
    "#Q1\n",
    "course_name = ['Data Science', 'Machine Learning', 'Big Data', 'Data Engineer']"
   ]
  },
  {
   "cell_type": "code",
   "execution_count": 3,
   "id": "53c396c7-5881-4d06-ae39-a51a3a85a91c",
   "metadata": {},
   "outputs": [],
   "source": [
    "duration = [2,3,6,4]"
   ]
  },
  {
   "cell_type": "code",
   "execution_count": 4,
   "id": "61dc0a5b-47c8-4dfa-bf48-f43f667c3443",
   "metadata": {},
   "outputs": [],
   "source": [
    "df = pd.DataFrame(data = {'course_name' : course_name, 'duration' : duration})"
   ]
  },
  {
   "cell_type": "code",
   "execution_count": 5,
   "id": "0ebe2349-636b-445e-b0fa-97d2107a324b",
   "metadata": {},
   "outputs": [
    {
     "data": {
      "text/plain": [
       "course_name    Machine Learning\n",
       "duration                      3\n",
       "Name: 1, dtype: object"
      ]
     },
     "execution_count": 5,
     "metadata": {},
     "output_type": "execute_result"
    }
   ],
   "source": [
    "df.iloc[1]"
   ]
  },
  {
   "cell_type": "code",
   "execution_count": 6,
   "id": "d955efe2-ff4c-4df0-85dc-fd7cb6d435b1",
   "metadata": {},
   "outputs": [],
   "source": [
    "#Q2\n",
    "#loc function gives value present at the label value or defined index value.\n",
    "#iloc function gives value on the basis of python default indexing system."
   ]
  },
  {
   "cell_type": "code",
   "execution_count": 7,
   "id": "65666567-0998-4e29-93e9-5651901360e0",
   "metadata": {},
   "outputs": [],
   "source": [
    "import numpy as np"
   ]
  },
  {
   "cell_type": "code",
   "execution_count": 8,
   "id": "8d36730b-fea3-4255-825c-d02443415268",
   "metadata": {},
   "outputs": [],
   "source": [
    "#Q3\n",
    "columns = ['column_1', 'column_2', 'column_3', 'column_4', 'column_5', 'column_6']"
   ]
  },
  {
   "cell_type": "code",
   "execution_count": 9,
   "id": "2c3d8342-89b7-4ff8-a63a-bf4dea7ef5b9",
   "metadata": {},
   "outputs": [],
   "source": [
    "indices = [1,2,3,4,5,6]"
   ]
  },
  {
   "cell_type": "code",
   "execution_count": 10,
   "id": "53674759-dfbc-43b0-9e8e-d41cfcaeda53",
   "metadata": {},
   "outputs": [],
   "source": [
    "df1 = pd.DataFrame(np.random.rand(6,6), columns = columns, index = indices)"
   ]
  },
  {
   "cell_type": "code",
   "execution_count": 11,
   "id": "52f4efa8-f999-48cf-987a-97d23cc38420",
   "metadata": {},
   "outputs": [],
   "source": [
    "reindex = [3,0,1,2]"
   ]
  },
  {
   "cell_type": "code",
   "execution_count": 12,
   "id": "f9618296-7a86-4cae-8047-029ab2401393",
   "metadata": {},
   "outputs": [],
   "source": [
    "new_df = df1.reindex(reindex)"
   ]
  },
  {
   "cell_type": "code",
   "execution_count": 13,
   "id": "08a09889-a8a4-48f6-aedf-59754a895126",
   "metadata": {},
   "outputs": [
    {
     "data": {
      "text/html": [
       "<div>\n",
       "<style scoped>\n",
       "    .dataframe tbody tr th:only-of-type {\n",
       "        vertical-align: middle;\n",
       "    }\n",
       "\n",
       "    .dataframe tbody tr th {\n",
       "        vertical-align: top;\n",
       "    }\n",
       "\n",
       "    .dataframe thead th {\n",
       "        text-align: right;\n",
       "    }\n",
       "</style>\n",
       "<table border=\"1\" class=\"dataframe\">\n",
       "  <thead>\n",
       "    <tr style=\"text-align: right;\">\n",
       "      <th></th>\n",
       "      <th>column_1</th>\n",
       "      <th>column_2</th>\n",
       "      <th>column_3</th>\n",
       "      <th>column_4</th>\n",
       "      <th>column_5</th>\n",
       "      <th>column_6</th>\n",
       "    </tr>\n",
       "  </thead>\n",
       "  <tbody>\n",
       "    <tr>\n",
       "      <th>3</th>\n",
       "      <td>0.016232</td>\n",
       "      <td>0.128931</td>\n",
       "      <td>0.003029</td>\n",
       "      <td>0.909742</td>\n",
       "      <td>0.310290</td>\n",
       "      <td>0.931903</td>\n",
       "    </tr>\n",
       "    <tr>\n",
       "      <th>0</th>\n",
       "      <td>NaN</td>\n",
       "      <td>NaN</td>\n",
       "      <td>NaN</td>\n",
       "      <td>NaN</td>\n",
       "      <td>NaN</td>\n",
       "      <td>NaN</td>\n",
       "    </tr>\n",
       "    <tr>\n",
       "      <th>1</th>\n",
       "      <td>0.950707</td>\n",
       "      <td>0.442358</td>\n",
       "      <td>0.515846</td>\n",
       "      <td>0.761299</td>\n",
       "      <td>0.216769</td>\n",
       "      <td>0.787890</td>\n",
       "    </tr>\n",
       "    <tr>\n",
       "      <th>2</th>\n",
       "      <td>0.962659</td>\n",
       "      <td>0.816464</td>\n",
       "      <td>0.504442</td>\n",
       "      <td>0.921407</td>\n",
       "      <td>0.967199</td>\n",
       "      <td>0.207577</td>\n",
       "    </tr>\n",
       "  </tbody>\n",
       "</table>\n",
       "</div>"
      ],
      "text/plain": [
       "   column_1  column_2  column_3  column_4  column_5  column_6\n",
       "3  0.016232  0.128931  0.003029  0.909742  0.310290  0.931903\n",
       "0       NaN       NaN       NaN       NaN       NaN       NaN\n",
       "1  0.950707  0.442358  0.515846  0.761299  0.216769  0.787890\n",
       "2  0.962659  0.816464  0.504442  0.921407  0.967199  0.207577"
      ]
     },
     "execution_count": 13,
     "metadata": {},
     "output_type": "execute_result"
    }
   ],
   "source": [
    "new_df"
   ]
  },
  {
   "cell_type": "code",
   "execution_count": 14,
   "id": "fd18be91-19d2-4c90-98d4-11e3bf287732",
   "metadata": {},
   "outputs": [
    {
     "data": {
      "text/plain": [
       "column_1    0.962659\n",
       "column_2    0.816464\n",
       "column_3    0.504442\n",
       "column_4    0.921407\n",
       "column_5    0.967199\n",
       "column_6    0.207577\n",
       "Name: 2, dtype: float64"
      ]
     },
     "execution_count": 14,
     "metadata": {},
     "output_type": "execute_result"
    }
   ],
   "source": [
    "new_df.loc[2]"
   ]
  },
  {
   "cell_type": "code",
   "execution_count": 15,
   "id": "38605a91-d32c-4ab9-88f4-4be5ae8597f0",
   "metadata": {},
   "outputs": [
    {
     "data": {
      "text/plain": [
       "column_1    0.950707\n",
       "column_2    0.442358\n",
       "column_3    0.515846\n",
       "column_4    0.761299\n",
       "column_5    0.216769\n",
       "column_6    0.787890\n",
       "Name: 1, dtype: float64"
      ]
     },
     "execution_count": 15,
     "metadata": {},
     "output_type": "execute_result"
    }
   ],
   "source": [
    "new_df.iloc[2]"
   ]
  },
  {
   "cell_type": "code",
   "execution_count": 16,
   "id": "6bf4349c-5945-404d-ac29-0b0d8998e9bc",
   "metadata": {},
   "outputs": [],
   "source": [
    "# in this section. loc is printing the row data which is present at the \n",
    "# lebeled index value '2', whereas iloc is printing the row data which \n",
    "# is present at the default indexed position which is '2' according to \n",
    "# python default indexing."
   ]
  },
  {
   "cell_type": "code",
   "execution_count": 17,
   "id": "842bef60-e47c-451c-90b3-1ec2e3ab1034",
   "metadata": {},
   "outputs": [
    {
     "data": {
      "text/plain": [
       "column_1    0.564201\n",
       "column_2    0.386151\n",
       "column_3    0.333444\n",
       "column_4    0.663859\n",
       "column_5    0.418161\n",
       "column_6    0.533783\n",
       "dtype: float64"
      ]
     },
     "execution_count": 17,
     "metadata": {},
     "output_type": "execute_result"
    }
   ],
   "source": [
    "#Q4\n",
    "df1.mean(axis=0)\n",
    "#['column_1', 'column_2', 'column_3', 'column_4' ,'column_5', 'column_6']"
   ]
  },
  {
   "cell_type": "code",
   "execution_count": 18,
   "id": "b0ca1d12-fdc0-4809-922c-8fc0ce211035",
   "metadata": {},
   "outputs": [
    {
     "data": {
      "text/plain": [
       "0.24972671193904633"
      ]
     },
     "execution_count": 18,
     "metadata": {},
     "output_type": "execute_result"
    }
   ],
   "source": [
    "df1.std(axis=0)['column_2']"
   ]
  },
  {
   "cell_type": "code",
   "execution_count": 19,
   "id": "540a1e20-e1cf-4bd9-b086-1146a0a9a73d",
   "metadata": {},
   "outputs": [],
   "source": [
    "#Q5\n",
    "df1['column_2'] = 'variable'"
   ]
  },
  {
   "cell_type": "code",
   "execution_count": 20,
   "id": "ae0246e9-910d-47ba-90a6-a141a8cf9ccb",
   "metadata": {},
   "outputs": [
    {
     "name": "stderr",
     "output_type": "stream",
     "text": [
      "/tmp/ipykernel_84/412333406.py:1: FutureWarning: The default value of numeric_only in DataFrame.mean is deprecated. In a future version, it will default to False. In addition, specifying 'numeric_only=None' is deprecated. Select only valid columns or specify the value of numeric_only to silence this warning.\n",
      "  df1.mean(axis=0)['column_2']\n"
     ]
    },
    {
     "ename": "KeyError",
     "evalue": "'column_2'",
     "output_type": "error",
     "traceback": [
      "\u001b[0;31m---------------------------------------------------------------------------\u001b[0m",
      "\u001b[0;31mKeyError\u001b[0m                                  Traceback (most recent call last)",
      "File \u001b[0;32m/opt/conda/lib/python3.10/site-packages/pandas/core/indexes/base.py:3803\u001b[0m, in \u001b[0;36mIndex.get_loc\u001b[0;34m(self, key, method, tolerance)\u001b[0m\n\u001b[1;32m   3802\u001b[0m \u001b[38;5;28;01mtry\u001b[39;00m:\n\u001b[0;32m-> 3803\u001b[0m     \u001b[38;5;28;01mreturn\u001b[39;00m \u001b[38;5;28;43mself\u001b[39;49m\u001b[38;5;241;43m.\u001b[39;49m\u001b[43m_engine\u001b[49m\u001b[38;5;241;43m.\u001b[39;49m\u001b[43mget_loc\u001b[49m\u001b[43m(\u001b[49m\u001b[43mcasted_key\u001b[49m\u001b[43m)\u001b[49m\n\u001b[1;32m   3804\u001b[0m \u001b[38;5;28;01mexcept\u001b[39;00m \u001b[38;5;167;01mKeyError\u001b[39;00m \u001b[38;5;28;01mas\u001b[39;00m err:\n",
      "File \u001b[0;32m/opt/conda/lib/python3.10/site-packages/pandas/_libs/index.pyx:138\u001b[0m, in \u001b[0;36mpandas._libs.index.IndexEngine.get_loc\u001b[0;34m()\u001b[0m\n",
      "File \u001b[0;32m/opt/conda/lib/python3.10/site-packages/pandas/_libs/index.pyx:165\u001b[0m, in \u001b[0;36mpandas._libs.index.IndexEngine.get_loc\u001b[0;34m()\u001b[0m\n",
      "File \u001b[0;32mpandas/_libs/hashtable_class_helper.pxi:5745\u001b[0m, in \u001b[0;36mpandas._libs.hashtable.PyObjectHashTable.get_item\u001b[0;34m()\u001b[0m\n",
      "File \u001b[0;32mpandas/_libs/hashtable_class_helper.pxi:5753\u001b[0m, in \u001b[0;36mpandas._libs.hashtable.PyObjectHashTable.get_item\u001b[0;34m()\u001b[0m\n",
      "\u001b[0;31mKeyError\u001b[0m: 'column_2'",
      "\nThe above exception was the direct cause of the following exception:\n",
      "\u001b[0;31mKeyError\u001b[0m                                  Traceback (most recent call last)",
      "Cell \u001b[0;32mIn[20], line 1\u001b[0m\n\u001b[0;32m----> 1\u001b[0m \u001b[43mdf1\u001b[49m\u001b[38;5;241;43m.\u001b[39;49m\u001b[43mmean\u001b[49m\u001b[43m(\u001b[49m\u001b[43maxis\u001b[49m\u001b[38;5;241;43m=\u001b[39;49m\u001b[38;5;241;43m0\u001b[39;49m\u001b[43m)\u001b[49m\u001b[43m[\u001b[49m\u001b[38;5;124;43m'\u001b[39;49m\u001b[38;5;124;43mcolumn_2\u001b[39;49m\u001b[38;5;124;43m'\u001b[39;49m\u001b[43m]\u001b[49m\n",
      "File \u001b[0;32m/opt/conda/lib/python3.10/site-packages/pandas/core/series.py:981\u001b[0m, in \u001b[0;36mSeries.__getitem__\u001b[0;34m(self, key)\u001b[0m\n\u001b[1;32m    978\u001b[0m     \u001b[38;5;28;01mreturn\u001b[39;00m \u001b[38;5;28mself\u001b[39m\u001b[38;5;241m.\u001b[39m_values[key]\n\u001b[1;32m    980\u001b[0m \u001b[38;5;28;01melif\u001b[39;00m key_is_scalar:\n\u001b[0;32m--> 981\u001b[0m     \u001b[38;5;28;01mreturn\u001b[39;00m \u001b[38;5;28;43mself\u001b[39;49m\u001b[38;5;241;43m.\u001b[39;49m\u001b[43m_get_value\u001b[49m\u001b[43m(\u001b[49m\u001b[43mkey\u001b[49m\u001b[43m)\u001b[49m\n\u001b[1;32m    983\u001b[0m \u001b[38;5;28;01mif\u001b[39;00m is_hashable(key):\n\u001b[1;32m    984\u001b[0m     \u001b[38;5;66;03m# Otherwise index.get_value will raise InvalidIndexError\u001b[39;00m\n\u001b[1;32m    985\u001b[0m     \u001b[38;5;28;01mtry\u001b[39;00m:\n\u001b[1;32m    986\u001b[0m         \u001b[38;5;66;03m# For labels that don't resolve as scalars like tuples and frozensets\u001b[39;00m\n",
      "File \u001b[0;32m/opt/conda/lib/python3.10/site-packages/pandas/core/series.py:1089\u001b[0m, in \u001b[0;36mSeries._get_value\u001b[0;34m(self, label, takeable)\u001b[0m\n\u001b[1;32m   1086\u001b[0m     \u001b[38;5;28;01mreturn\u001b[39;00m \u001b[38;5;28mself\u001b[39m\u001b[38;5;241m.\u001b[39m_values[label]\n\u001b[1;32m   1088\u001b[0m \u001b[38;5;66;03m# Similar to Index.get_value, but we do not fall back to positional\u001b[39;00m\n\u001b[0;32m-> 1089\u001b[0m loc \u001b[38;5;241m=\u001b[39m \u001b[38;5;28;43mself\u001b[39;49m\u001b[38;5;241;43m.\u001b[39;49m\u001b[43mindex\u001b[49m\u001b[38;5;241;43m.\u001b[39;49m\u001b[43mget_loc\u001b[49m\u001b[43m(\u001b[49m\u001b[43mlabel\u001b[49m\u001b[43m)\u001b[49m\n\u001b[1;32m   1090\u001b[0m \u001b[38;5;28;01mreturn\u001b[39;00m \u001b[38;5;28mself\u001b[39m\u001b[38;5;241m.\u001b[39mindex\u001b[38;5;241m.\u001b[39m_get_values_for_loc(\u001b[38;5;28mself\u001b[39m, loc, label)\n",
      "File \u001b[0;32m/opt/conda/lib/python3.10/site-packages/pandas/core/indexes/base.py:3805\u001b[0m, in \u001b[0;36mIndex.get_loc\u001b[0;34m(self, key, method, tolerance)\u001b[0m\n\u001b[1;32m   3803\u001b[0m     \u001b[38;5;28;01mreturn\u001b[39;00m \u001b[38;5;28mself\u001b[39m\u001b[38;5;241m.\u001b[39m_engine\u001b[38;5;241m.\u001b[39mget_loc(casted_key)\n\u001b[1;32m   3804\u001b[0m \u001b[38;5;28;01mexcept\u001b[39;00m \u001b[38;5;167;01mKeyError\u001b[39;00m \u001b[38;5;28;01mas\u001b[39;00m err:\n\u001b[0;32m-> 3805\u001b[0m     \u001b[38;5;28;01mraise\u001b[39;00m \u001b[38;5;167;01mKeyError\u001b[39;00m(key) \u001b[38;5;28;01mfrom\u001b[39;00m \u001b[38;5;21;01merr\u001b[39;00m\n\u001b[1;32m   3806\u001b[0m \u001b[38;5;28;01mexcept\u001b[39;00m \u001b[38;5;167;01mTypeError\u001b[39;00m:\n\u001b[1;32m   3807\u001b[0m     \u001b[38;5;66;03m# If we have a listlike key, _check_indexing_error will raise\u001b[39;00m\n\u001b[1;32m   3808\u001b[0m     \u001b[38;5;66;03m#  InvalidIndexError. Otherwise we fall through and re-raise\u001b[39;00m\n\u001b[1;32m   3809\u001b[0m     \u001b[38;5;66;03m#  the TypeError.\u001b[39;00m\n\u001b[1;32m   3810\u001b[0m     \u001b[38;5;28mself\u001b[39m\u001b[38;5;241m.\u001b[39m_check_indexing_error(key)\n",
      "\u001b[0;31mKeyError\u001b[0m: 'column_2'"
     ]
    }
   ],
   "source": [
    "df1.mean(axis=0)['column_2']"
   ]
  },
  {
   "cell_type": "code",
   "execution_count": null,
   "id": "566c903a-9474-41f0-b151-3ed6424926ac",
   "metadata": {},
   "outputs": [],
   "source": [
    "#Its not possible to take the mean of str values as the mean operation requires the\n",
    "#data to be int"
   ]
  },
  {
   "cell_type": "code",
   "execution_count": null,
   "id": "499f7f22-162e-45b4-a0fc-37d2ba4563aa",
   "metadata": {},
   "outputs": [],
   "source": [
    "#Q6\n",
    "#window have many functions, one of them is rolling"
   ]
  },
  {
   "cell_type": "code",
   "execution_count": 23,
   "id": "8f7d55fe-8337-4151-85c8-fdc49ad7e9fb",
   "metadata": {},
   "outputs": [],
   "source": [
    "#Q7\n",
    "import pandas as pd\n",
    "import datetime as dt"
   ]
  },
  {
   "cell_type": "code",
   "execution_count": 24,
   "id": "a2cef5e9-07ef-483d-afe5-baa5a477ac9e",
   "metadata": {},
   "outputs": [],
   "source": [
    "timestamp = pd.Timestamp(dt.datetime(2021,10,10))"
   ]
  },
  {
   "cell_type": "code",
   "execution_count": 25,
   "id": "92c34d7e-a551-4e33-9366-5641cf9b3a30",
   "metadata": {},
   "outputs": [],
   "source": [
    "res = timestamp.today()"
   ]
  },
  {
   "cell_type": "code",
   "execution_count": 26,
   "id": "bd47e3ff-98a8-4e36-9366-975eb7aa3045",
   "metadata": {},
   "outputs": [
    {
     "data": {
      "text/plain": [
       "Timestamp('2023-07-13 09:02:46.807280')"
      ]
     },
     "execution_count": 26,
     "metadata": {},
     "output_type": "execute_result"
    }
   ],
   "source": [
    "res"
   ]
  },
  {
   "cell_type": "code",
   "execution_count": null,
   "id": "1e851bb3-d9ef-403f-a942-47d1d247f59b",
   "metadata": {},
   "outputs": [],
   "source": []
  }
 ],
 "metadata": {
  "kernelspec": {
   "display_name": "Python 3 (ipykernel)",
   "language": "python",
   "name": "python3"
  },
  "language_info": {
   "codemirror_mode": {
    "name": "ipython",
    "version": 3
   },
   "file_extension": ".py",
   "mimetype": "text/x-python",
   "name": "python",
   "nbconvert_exporter": "python",
   "pygments_lexer": "ipython3",
   "version": "3.10.8"
  }
 },
 "nbformat": 4,
 "nbformat_minor": 5
}
